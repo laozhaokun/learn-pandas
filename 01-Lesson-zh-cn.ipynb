{
 "metadata": {
  "name": "",
  "signature": "sha256:03e1b10319b073444f8dbd81c667141f2acf0e7c867a1ea4d7e7c7e18e3b6e25"
 },
 "nbformat": 3,
 "nbformat_minor": 0,
 "worksheets": [
  {
   "cells": [
    {
     "cell_type": "markdown",
     "metadata": {},
     "source": [
      "# **Lesson 1**  \n",
      "\n",
      "**\u521b\u5efa \u6570\u636e** - \u6211\u4eec\u4ee5\u521b\u5efa\u81ea\u5df1\u7684\u6570\u636e\u96c6\u4f5c\u4e3a\u6570\u636e\u5206\u6790\u7684\u5f00\u59cb\u3002 \u8fd9\u5c06\u907f\u514d\u6700\u7ec8\u7528\u6237\u5728\u9605\u8bfb\u8fd9\u4e2a\u6559\u7a0b\u7684\u65f6\u5019\u5fc5\u987b\u4e0b\u8f7d\u4efb\u4f55\u6587\u4ef6\u6765\u590d\u73b0\u51fa\u4e0b\u9762\u7684\u7ed3\u679c\u3002\u6211\u4eec\u5c06\u628a\u8fd9\u4e2a\u6570\u636e\u96c6\u5bfc\u51fa\u5230\u4e00\u4e2a\u6587\u672c\u6587\u4ef6\u4ee5\u4fbf\u4f60\u53ef\u4ee5\u5f97\u5230\u4e00\u4e9b\u4ece\u6587\u672c\u6587\u4ef6\u8bfb\u53d6\u6570\u636e\u7684\u7ecf\u9a8c\u3002    \n",
      "**\u83b7\u5f97 \u6570\u636e** - \u6211\u4eec\u5c06\u5b66\u4e60\u5982\u4f55\u4ece\u6587\u672c\u6587\u4ef6\u4e2d\u8bfb\u53d6\u6570\u636e\u3002\u8fd9\u4e2a\u6570\u636e\u5305\u62ec\u5a74\u513f\u59d3\u540d\u548c1880\u5e74\u51fa\u751f\u7684\u5a74\u513f\u59d3\u540d\u6570\u91cf\u3002   \n",
      "**\u51c6\u5907 \u6570\u636e** - \u8fd9\u91cc\u6211\u4eec\u5c06\u7b80\u5355\u770b\u770b\u6570\u636e\u5e76\u786e\u4fdd\u5176\u662f\u5e72\u51c0\u7684\u3002\u8bf4\u5e72\u51c0\uff0c\u6211\u7684\u610f\u601d\u662f\u6211\u4eec\u5c06\u6df1\u5165\u6587\u672c\u6587\u4ef6\u7684\u5185\u90e8\u627e\u51fa\u4efb\u4f55\u7684\u5f02\u5e38\u3002\u8fd9\u53ef\u80fd\u5305\u62ec\u5374\u662f\u6570\u636e\u3001\u6570\u636e\u4e2d\u6709\u77db\u76fe\u6216\u8005\u4efb\u4f55\u5f02\u4f4d\u7684\u6570\u636e\u3002\u5982\u679c\u6709\u627e\u5230\uff0c\u6211\u4eec\u5c06\u5fc5\u987b\u51b3\u5b9a\u5982\u4f55\u5904\u7406\u8fd9\u4e9b\u8bb0\u5f55\u3002  \n",
      "**\u5206\u6790 \u6570\u636e** - \u6211\u4eec\u5c06\u7b80\u5355\u5730\u627e\u51fa\u5728\u4e00\u4e2a\u7279\u5b9a\u5e74\u4efd\u6700\u6d41\u884c\u7684\u540d\u5b57\u3002  \n",
      "**\u5c55\u793a \u6570\u636e** - \u901a\u8fc7\u8868\u683c\u6570\u636e\u548c\u4e00\u5f20\u56fe\uff0c\u6e05\u6670\u5730\u5c55\u793a\u7ed9\u6700\u7ec8\u7528\u6237\u4ec0\u4e48\u662f\u4e00\u4e2a\u7279\u5b9a\u5e74\u4efd\u6700\u6d41\u884c\u7684\u540d\u5b57\u3002"
     ]
    },
    {
     "cell_type": "markdown",
     "metadata": {},
     "source": [
      "***pandas***\u5305\u9002\u7528\u4e8e\u9664\u5c0f\u91cf\u6570\u636e\u5c55\u793a\u73af\u8282\u4e4b\u5916\u7684\u6240\u6709\u7684\u6570\u636e\u5206\u6790\u3002***matplotlib***\u5305\u5c06\u53ea\u7528\u4e8e\u6570\u636e\u5c55\u793a\u73af\u8282\u3002\u5bfc\u5165\u5e93\u662f\u8fd9\u4e2a\u6559\u7a0b\u7684\u7b2c\u4e00\u6b65\u3002"
     ]
    },
    {
     "cell_type": "code",
     "collapsed": false,
     "input": [
      "# \u5bfc\u5165\u8fd9\u4e2a\u6559\u7a0b\u9700\u8981\u7684\u6240\u6709\u5305\n",
      "\n",
      "# \u5bfc\u5165\u4e00\u4e2a\u5305\u4e2d\u6307\u5b9a\u51fd\u6570\u7684\u4e00\u822c\u8bed\u6cd5\uff1a\n",
      "##from (\u5305) import (\u6307\u5b9a\u51fd\u6570)\n",
      "from pandas import DataFrame, read_csv\n",
      "\n",
      "# \u5bfc\u5165\u4e00\u4e2a\u5305\u4f46\u4e0d\u6307\u5b9a\u51fd\u6570\u7684\u4e00\u822c\u8bed\u6cd5\uff1a\n",
      "##import (\u5305) as (\u7ed9\u5305\u4e00\u4e2a\u522b\u540d)\n",
      "import matplotlib.pyplot as plt\n",
      "import pandas as pd #\u6211\u7ecf\u5e38\u8fd9\u4e48\u5bfc\u5165pandas\n",
      "import sys #\u53ea\u7528\u4e8e\u68c0\u6d4bPython \u7248\u672c\u53f7\n",
      "\n",
      "# \u5141\u8bb8\u884c\u5185\u753b\u56fe\n",
      "%matplotlib inline"
     ],
     "language": "python",
     "metadata": {},
     "outputs": [],
     "prompt_number": 24
    },
    {
     "cell_type": "code",
     "collapsed": false,
     "input": [
      "print 'Python version ' + sys.version\n",
      "print 'Pandas version ' + pd.__version__"
     ],
     "language": "python",
     "metadata": {},
     "outputs": [
      {
       "output_type": "stream",
       "stream": "stdout",
       "text": [
        "Python version 2.7.6 | 32-bit | (default, Jun  4 2014, 16:28:07) [MSC v.1500 32 bit (Intel)]\n",
        "Pandas version 0.14.0\n"
       ]
      }
     ],
     "prompt_number": 3
    },
    {
     "cell_type": "markdown",
     "metadata": {},
     "source": [
      "# \u521b\u5efa \u6570\u636e\n",
      "\n",
      "\u6570\u636e\u96c6\u5c06\u5305\u62ec5\u4e2a\u5a74\u513f\u59d3\u540d\u548c\u5f53\u5e74(1880)\u7684\u51fa\u751f\u8bb0\u5f55\u6570\u3002"
     ]
    },
    {
     "cell_type": "code",
     "collapsed": false,
     "input": [
      "# \u5a74\u513f\u59d3\u540d\u548c\u51fa\u751f\u91cf\u7684\u521d\u59cb\u6570\u636e\u96c6\n",
      "names = ['Bob','Jessica','Mary','John','Mel']\n",
      "births = [968, 155, 77, 578, 973]\n"
     ],
     "language": "python",
     "metadata": {},
     "outputs": [],
     "prompt_number": 4
    },
    {
     "cell_type": "markdown",
     "metadata": {},
     "source": [
      "\u5408\u5e76\u8fd9\u4e24\u4e2alist\uff0c\u6211\u4eec\u9700\u8981\u4f7f\u7528 ***zip*** \u51fd\u6570\u3002"
     ]
    },
    {
     "cell_type": "code",
     "collapsed": false,
     "input": [
      "zip?"
     ],
     "language": "python",
     "metadata": {},
     "outputs": [],
     "prompt_number": 5
    },
    {
     "cell_type": "code",
     "collapsed": false,
     "input": [
      "BabyDataSet = zip(names,births)\n",
      "BabyDataSet"
     ],
     "language": "python",
     "metadata": {},
     "outputs": [
      {
       "metadata": {},
       "output_type": "pyout",
       "prompt_number": 6,
       "text": [
        "[('Bob', 968), ('Jessica', 155), ('Mary', 77), ('John', 578), ('Mel', 973)]"
       ]
      }
     ],
     "prompt_number": 6
    },
    {
     "cell_type": "markdown",
     "metadata": {},
     "source": [
      "\u6211\u4eec\u57fa\u672c\u5b8c\u6210\u4e86\u521b\u5efa\u6570\u636e\u96c6\u3002\u73b0\u5728\u6211\u4eec\u7528 ***pandas*** \u5305\u5bfc\u51fa\u8fd9\u4e2a\u6570\u636e\u96c6\u5230\u4e00\u4e2acsv\u6587\u4ef6\u3002\n",
      "\n",
      "***df*** \u5c06\u662f\u4e00\u4e2a ***DataFrame*** \u5bf9\u8c61. \u4f60\u53ef\u4ee5\u8ba4\u4e3a\u8fd9\u4e2a\u5bf9\u8c61\u88c5\u6709BabyDataSet\u7684\u5185\u5bb9\uff0c\u4ee5\u4e00\u4e2a\u7c7b\u4f3csql\u8868\u683c\u5f0f\u6216\u8005excel\u8868\u683c\u7684\u683c\u5f0f\u3002\u8ba9\u6211\u4eec\u770b\u770b ***df*** \u4e2d\u7684\u5185\u5bb9\u3002"
     ]
    },
    {
     "cell_type": "code",
     "collapsed": false,
     "input": [
      "df = pd.DataFrame(data = BabyDataSet, columns=['Names', 'Births'])\n",
      "df"
     ],
     "language": "python",
     "metadata": {},
     "outputs": [
      {
       "html": [
        "<div style=\"max-height:1000px;max-width:1500px;overflow:auto;\">\n",
        "<table border=\"1\" class=\"dataframe\">\n",
        "  <thead>\n",
        "    <tr style=\"text-align: right;\">\n",
        "      <th></th>\n",
        "      <th>Names</th>\n",
        "      <th>Births</th>\n",
        "    </tr>\n",
        "  </thead>\n",
        "  <tbody>\n",
        "    <tr>\n",
        "      <th>0</th>\n",
        "      <td>     Bob</td>\n",
        "      <td> 968</td>\n",
        "    </tr>\n",
        "    <tr>\n",
        "      <th>1</th>\n",
        "      <td> Jessica</td>\n",
        "      <td> 155</td>\n",
        "    </tr>\n",
        "    <tr>\n",
        "      <th>2</th>\n",
        "      <td>    Mary</td>\n",
        "      <td>  77</td>\n",
        "    </tr>\n",
        "    <tr>\n",
        "      <th>3</th>\n",
        "      <td>    John</td>\n",
        "      <td> 578</td>\n",
        "    </tr>\n",
        "    <tr>\n",
        "      <th>4</th>\n",
        "      <td>     Mel</td>\n",
        "      <td> 973</td>\n",
        "    </tr>\n",
        "  </tbody>\n",
        "</table>\n",
        "</div>"
       ],
       "metadata": {},
       "output_type": "pyout",
       "prompt_number": 7,
       "text": [
        "     Names  Births\n",
        "0      Bob     968\n",
        "1  Jessica     155\n",
        "2     Mary      77\n",
        "3     John     578\n",
        "4      Mel     973"
       ]
      }
     ],
     "prompt_number": 7
    },
    {
     "cell_type": "markdown",
     "metadata": {},
     "source": [
      "\u5bfc\u51fa\u8fd9\u4e2adataframe\u5230\u4e00\u4e2a ***csv*** \u6587\u4ef6\u3002\u6211\u4eec\u53ef\u4ee5\u5c06\u6587\u4ef6\u547d\u540d\u4e3a ***births1880.csv***\u3002\u51fd\u6570 ***to_csv*** \u5c06\u88ab\u7528\u6765\u5bfc\u51fa\u6587\u4ef6\u3002\u8fd9\u4e2a\u6587\u4ef6\u5c06\u88ab\u4fdd\u5b58\u5728notebook\u7684\u540c\u4e00\u4f4d\u7f6e\uff0c\u9664\u975e\u7279\u522b\u6307\u5b9a\u3002"
     ]
    },
    {
     "cell_type": "code",
     "collapsed": false,
     "input": [
      "df.to_csv?"
     ],
     "language": "python",
     "metadata": {},
     "outputs": [],
     "prompt_number": 8
    },
    {
     "cell_type": "markdown",
     "metadata": {},
     "source": [
      "\u6211\u4eec\u4f7f\u7528\u7684\u53c2\u6570\u662f ***index*** \u548c ***header***\u3002\u8bbe\u7f6e\u8fd9\u4e9b\u53c2\u6570\u4e3aTrue\u5c06\u907f\u514dindex\u548c\u5934\u90e8name\u88ab\u5bfc\u51fa\u3002\u6539\u53d8\u8fd9\u4e9b\u53c2\u6570\u7684\u503c\u53ef\u4ee5\u66f4\u597d\u7684\u7406\u89e3\u4ed6\u4eec\u7684\u7528\u6cd5\u3002"
     ]
    },
    {
     "cell_type": "code",
     "collapsed": false,
     "input": [
      "df.to_csv('births1880.csv',index=False,header=False)"
     ],
     "language": "python",
     "metadata": {},
     "outputs": [],
     "prompt_number": 9
    },
    {
     "cell_type": "markdown",
     "metadata": {},
     "source": [
      "## \u83b7\u5f97 \u6570\u636e"
     ]
    },
    {
     "cell_type": "markdown",
     "metadata": {},
     "source": [
      "\u8bfb\u53d6csv\u6587\u4ef6\u4e2d\u7684\u6570\u636e\uff0c\u6211\u4eec\u5c06\u4f7f\u7528pandas\u7684\u51fd\u6570 *read_csv*\u3002\u8ba9\u6211\u4eec\u770b\u770b\u8fd9\u4e2a\u51fd\u6570\u9700\u8981\u4ec0\u4e48\u8f93\u5165\u3002"
     ]
    },
    {
     "cell_type": "code",
     "collapsed": false,
     "input": [
      "read_csv?"
     ],
     "language": "python",
     "metadata": {},
     "outputs": [],
     "prompt_number": 10
    },
    {
     "cell_type": "markdown",
     "metadata": {},
     "source": [
      "\u867d\u7136\u8fd9\u4e2a\u51fd\u6570\u6709\u5f88\u591a\u53c2\u6570\uff0c\u6211\u4eec\u53ea\u8981\u7b80\u5355\u5730\u4f20\u5165\u6587\u672c\u6587\u4ef6\u7684\u5730\u5740\u3002\n",
      "\n",
      "Location = C:\\Users\\ENTER_USER_NAME\\.xy\\startups\\births1880.csv  \n",
      "\n",
      "***\u6ce8\u610f:*** \u53d6\u51b3\u4e8e\u4f60\u4fdd\u5b58\u4f60\u7684notebooks\u5230\u54ea\u91cc\uff0c\u4f60\u53ef\u80fd\u9700\u8981\u4fee\u6539\u4e0a\u9762\u7684\u4f4d\u7f6e\u3002"
     ]
    },
    {
     "cell_type": "code",
     "collapsed": false,
     "input": [
      "Location = r'C:\\Users\\zhaohf\\Desktop\\notebooks\\learn-pandas\\lessons\\births1880.csv'\n",
      "df = pd.read_csv(Location)"
     ],
     "language": "python",
     "metadata": {},
     "outputs": [],
     "prompt_number": 12
    },
    {
     "cell_type": "markdown",
     "metadata": {},
     "source": [
      "\u6ce8\u610f\u5b57\u7b26\u4e32\u524d\u7684 ***r*** \u3002\u7531\u4e8e\u53cd\u659c\u6760\u662f\u7279\u6b8a\u5b57\u7b26\uff0c\u5728\u5b57\u7b26\u4e32\u524d\u52a0 ***r*** \u4f7f\u5f97\u6574\u4e2a\u5b57\u7b26\u4e32\u8f6c\u4e49\u3002"
     ]
    },
    {
     "cell_type": "code",
     "collapsed": false,
     "input": [
      "df"
     ],
     "language": "python",
     "metadata": {},
     "outputs": [
      {
       "html": [
        "<div style=\"max-height:1000px;max-width:1500px;overflow:auto;\">\n",
        "<table border=\"1\" class=\"dataframe\">\n",
        "  <thead>\n",
        "    <tr style=\"text-align: right;\">\n",
        "      <th></th>\n",
        "      <th>Bob</th>\n",
        "      <th>968</th>\n",
        "    </tr>\n",
        "  </thead>\n",
        "  <tbody>\n",
        "    <tr>\n",
        "      <th>0</th>\n",
        "      <td> Jessica</td>\n",
        "      <td> 155</td>\n",
        "    </tr>\n",
        "    <tr>\n",
        "      <th>1</th>\n",
        "      <td>    Mary</td>\n",
        "      <td>  77</td>\n",
        "    </tr>\n",
        "    <tr>\n",
        "      <th>2</th>\n",
        "      <td>    John</td>\n",
        "      <td> 578</td>\n",
        "    </tr>\n",
        "    <tr>\n",
        "      <th>3</th>\n",
        "      <td>     Mel</td>\n",
        "      <td> 973</td>\n",
        "    </tr>\n",
        "  </tbody>\n",
        "</table>\n",
        "</div>"
       ],
       "metadata": {},
       "output_type": "pyout",
       "prompt_number": 13,
       "text": [
        "       Bob  968\n",
        "0  Jessica  155\n",
        "1     Mary   77\n",
        "2     John  578\n",
        "3      Mel  973"
       ]
      }
     ],
     "prompt_number": 13
    },
    {
     "cell_type": "markdown",
     "metadata": {},
     "source": [
      "\u8fd9\u91cc\u5e26\u6765\u4e86\u8fd9\u4e2a\u7ec3\u4e60\u7684\u7b2c\u4e00\u4e2a\u95ee\u9898\u3002***read_csv*** \u51fd\u6570\u5c06csv\u6587\u4ef6\u7684\u7b2c\u4e00\u884c\u5f53\u4f5c\u662f\u5934\u90e8\u6807\u9898\u3002\u8fd9\u663e\u7136\u662f\u4e0d\u5bf9\u7684\uff0c\u56e0\u4e3a\u6587\u672c\u6587\u4ef6\u5e76\u4e0d\u63d0\u4f9b\u5934\u90e8\u6807\u9898\u3002\n",
      "\n",
      "\u4fee\u6b63\u8fd9\u4e2a\u95ee\u9898\u9700\u8981\u4f20\u5165 ***header*** \u53c2\u6570\u7ed9 *read_csv* \u51fd\u6570\uff0c\u5e76\u8bbe\u7f6e\u4e3a ***None*** (\u5728python\u91cc\u610f\u601d\u662f\u7a7a)."
     ]
    },
    {
     "cell_type": "code",
     "collapsed": false,
     "input": [
      "df = pd.read_csv(Location,header=None)\n",
      "df"
     ],
     "language": "python",
     "metadata": {},
     "outputs": [
      {
       "html": [
        "<div style=\"max-height:1000px;max-width:1500px;overflow:auto;\">\n",
        "<table border=\"1\" class=\"dataframe\">\n",
        "  <thead>\n",
        "    <tr style=\"text-align: right;\">\n",
        "      <th></th>\n",
        "      <th>0</th>\n",
        "      <th>1</th>\n",
        "    </tr>\n",
        "  </thead>\n",
        "  <tbody>\n",
        "    <tr>\n",
        "      <th>0</th>\n",
        "      <td>     Bob</td>\n",
        "      <td> 968</td>\n",
        "    </tr>\n",
        "    <tr>\n",
        "      <th>1</th>\n",
        "      <td> Jessica</td>\n",
        "      <td> 155</td>\n",
        "    </tr>\n",
        "    <tr>\n",
        "      <th>2</th>\n",
        "      <td>    Mary</td>\n",
        "      <td>  77</td>\n",
        "    </tr>\n",
        "    <tr>\n",
        "      <th>3</th>\n",
        "      <td>    John</td>\n",
        "      <td> 578</td>\n",
        "    </tr>\n",
        "    <tr>\n",
        "      <th>4</th>\n",
        "      <td>     Mel</td>\n",
        "      <td> 973</td>\n",
        "    </tr>\n",
        "  </tbody>\n",
        "</table>\n",
        "</div>"
       ],
       "metadata": {},
       "output_type": "pyout",
       "prompt_number": 15,
       "text": [
        "         0    1\n",
        "0      Bob  968\n",
        "1  Jessica  155\n",
        "2     Mary   77\n",
        "3     John  578\n",
        "4      Mel  973"
       ]
      }
     ],
     "prompt_number": 15
    },
    {
     "cell_type": "markdown",
     "metadata": {},
     "source": [
      "\u5982\u679c\u6211\u4eec\u60f3\u8981\u7ed9\u5217\u6307\u5b9a\u540d\u5b57\uff0c\u6211\u4eec\u5fc5\u987b\u4f20\u5165\u53e6\u4e00\u4e2a\u53c2\u6570\uff0c\u53eb\u505a ***names***\u3002\u6211\u4eec\u4e5f\u53ef\u4ee5\u7701\u7565 *header* \u53c2\u6570."
     ]
    },
    {
     "cell_type": "code",
     "collapsed": false,
     "input": [
      "df = pd.read_csv(Location,names=['Names','Births'])\n",
      "df"
     ],
     "language": "python",
     "metadata": {},
     "outputs": [
      {
       "html": [
        "<div style=\"max-height:1000px;max-width:1500px;overflow:auto;\">\n",
        "<table border=\"1\" class=\"dataframe\">\n",
        "  <thead>\n",
        "    <tr style=\"text-align: right;\">\n",
        "      <th></th>\n",
        "      <th>Names</th>\n",
        "      <th>Births</th>\n",
        "    </tr>\n",
        "  </thead>\n",
        "  <tbody>\n",
        "    <tr>\n",
        "      <th>0</th>\n",
        "      <td>     Bob</td>\n",
        "      <td> 968</td>\n",
        "    </tr>\n",
        "    <tr>\n",
        "      <th>1</th>\n",
        "      <td> Jessica</td>\n",
        "      <td> 155</td>\n",
        "    </tr>\n",
        "    <tr>\n",
        "      <th>2</th>\n",
        "      <td>    Mary</td>\n",
        "      <td>  77</td>\n",
        "    </tr>\n",
        "    <tr>\n",
        "      <th>3</th>\n",
        "      <td>    John</td>\n",
        "      <td> 578</td>\n",
        "    </tr>\n",
        "    <tr>\n",
        "      <th>4</th>\n",
        "      <td>     Mel</td>\n",
        "      <td> 973</td>\n",
        "    </tr>\n",
        "  </tbody>\n",
        "</table>\n",
        "</div>"
       ],
       "metadata": {},
       "output_type": "pyout",
       "prompt_number": 16,
       "text": [
        "     Names  Births\n",
        "0      Bob     968\n",
        "1  Jessica     155\n",
        "2     Mary      77\n",
        "3     John     578\n",
        "4      Mel     973"
       ]
      }
     ],
     "prompt_number": 16
    },
    {
     "cell_type": "markdown",
     "metadata": {},
     "source": [
      "\u4f60\u53ef\u4ee5\u628a\u6570\u5b57[0,1,2,3,4] \u5f53\u4f5c\u662fExcel\u6587\u4ef6\u4e2d\u7684\u884c\u53f7\u3002\u5728pandas\u4e2d\uff0c\u8fd9\u4e9b\u662fdataframe\u7684***index***\u7684\u4e00\u90e8\u5206\u3002\u4f60\u53ef\u4ee5\u8ba4\u4e3aindex\u662f\u4e00\u4e2asql\u8868\u7684\u4e3b\u952e\uff0c\u533a\u522b\u662f\u5176\u5141\u8bb8\u91cd\u590d\u3002\n",
      "\n",
      "[Names, Births] \u53ef\u4ee5\u8ba4\u4e3a\u662f\u5217\u5934\uff0c\u7c7b\u4f3c\u4e8eExcel\u8868\u683c\u6216sql\u6570\u636e\u5e93\u4e2d\u7684\u5217\u5934\u3002"
     ]
    },
    {
     "cell_type": "markdown",
     "metadata": {},
     "source": [
      "#### \u65e2\u7136\u6211\u4eec\u4e0d\u7528csv\u6587\u4ef6\u4e86\uff0c\u5220\u6389\u5b83\u3002"
     ]
    },
    {
     "cell_type": "code",
     "collapsed": false,
     "input": [
      "import os\n",
      "os.remove(Location)"
     ],
     "language": "python",
     "metadata": {},
     "outputs": [],
     "prompt_number": 17
    },
    {
     "cell_type": "markdown",
     "metadata": {},
     "source": [
      "## \u51c6\u5907 \u6570\u636e"
     ]
    },
    {
     "cell_type": "markdown",
     "metadata": {},
     "source": [
      "\u6211\u4eec\u62e5\u6709\u7684\u8fd9\u4e2a\u6570\u636e\u5305\u62ec\u5a74\u513f\u59d3\u540d\u548c1880\u5e74\u51fa\u751f\u7684\u5a74\u513f\u59d3\u540d\u6570\u91cf\u3002\u6211\u4eec\u5df2\u7ecf\u77e5\u9053\u6211\u4eec\u67095\u6761\u8bb0\u5f55\uff0c\u5e76\u4e14\u6ca1\u6709\u8bb0\u5f55\u6709\u7f3a\u5931(\u7a7a\u503c)\u3002"
     ]
    },
    {
     "cell_type": "markdown",
     "metadata": {},
     "source": [
      "***Names*** \u5217\u5728\u8fd9\u91cc\u4e0d\u91cd\u8981\uff0c\u56e0\u4e3a\u5b83\u4ec5\u4ec5\u662f\u5b57\u6bcd\u7684\u7ec4\u5408(\u5a74\u513f\u59d3\u540d)\u3002\u8fd9\u4e00\u5217\u6709\u53ef\u80fd\u6709\u574f\u7684\u6570\u636e\uff0c\u4f46\u662f\u5728\u8fd9\u4e2a\u5206\u6790\u91cc\u6211\u4eec\u4e0d\u7528\u62c5\u5fc3\u3002\n",
      "***Births*** \u5217\u5e94\u8be5\u4ec5\u5305\u542b\u6570\u5b57\uff0c\u4ee3\u8868\u6307\u5b9a\u5e74\u4efd\u6307\u5b9a\u5a74\u513f\u59d3\u540d\u7684\u6570\u91cf\u3002\u6211\u4eec\u53ef\u4ee5\u68c0\u67e5\u662f\u5426\u6240\u6709\u7684\u6570\u636e\u90fd\u662f\u6570\u5b57\u7c7b\u578b\u7684\u3002\u8fd9\u4e00\u5217\u6709\u6d6e\u70b9\u6570\u5e76\u6ca1\u6709\u4ec0\u4e48\u5f71\u54cd\u3002\u5728\u8fd9\u91cc\u6211\u5e76\u4e0d\u62c5\u5fc3\u4efb\u4f55\u53ef\u80fd\u7684\u5f02\u5e38\u503c\u3002\n",
      "\n",
      "\u610f\u8bc6\u5230\u6211\u4eec\u5bf9 \"Names\" \u5217\u4e4b\u5916\u505a\u4e86\u68c0\u67e5\uff0c\u7b80\u7565\u5730\u770b\u770bdataframe\u91cc\u7684\u6570\u636e\u5e94\u8be5\u5728\u8fd9\u4e00\u5c42\u6b21\u5c31\u591f\u4e86\u3002\u7531\u4e8e\u6211\u4eec\u5c06\u7ee7\u7eed\u6570\u636e\u5206\u6790\u751f\u6daf\uff0c\u6211\u4eec\u5c06\u6709\u5f88\u591a\u673a\u4f1a\u53d1\u73b0\u6570\u636e\u96c6\u91cc\u7684\u95ee\u9898\u3002"
     ]
    },
    {
     "cell_type": "code",
     "collapsed": false,
     "input": [
      "# \u68c0\u67e5\u5217\u7684\u6570\u636e\u7c7b\u578b\n",
      "df.dtypes"
     ],
     "language": "python",
     "metadata": {},
     "outputs": [
      {
       "metadata": {},
       "output_type": "pyout",
       "prompt_number": 18,
       "text": [
        "Names     object\n",
        "Births     int64\n",
        "dtype: object"
       ]
      }
     ],
     "prompt_number": 18
    },
    {
     "cell_type": "code",
     "collapsed": false,
     "input": [
      "# \u68c0\u67e5 Births \u5217\u7684\u6570\u636e\u7c7b\u578b\n",
      "df.Births.dtype"
     ],
     "language": "python",
     "metadata": {},
     "outputs": [
      {
       "metadata": {},
       "output_type": "pyout",
       "prompt_number": 19,
       "text": [
        "dtype('int64')"
       ]
      }
     ],
     "prompt_number": 19
    },
    {
     "cell_type": "markdown",
     "metadata": {},
     "source": [
      "\u5982\u4f60\u6240\u89c1 *Births* \u5217\u662f ***int64***\u7c7b\u578b\uff0c\u56e0\u6b64\u6ca1\u6709\u6d6e\u70b9\u6570(\u5c0f\u6570\u6570\u5b57) \u6216\u8005\u5b57\u6bcd\u6570\u503c\u5b57\u7b26\u4f1a\u5728\u8fd9\u4e2a\u5217\u91cc\u51fa\u73b0\u3002"
     ]
    },
    {
     "cell_type": "markdown",
     "metadata": {},
     "source": [
      "## \u5206\u6790 \u6570\u636e"
     ]
    },
    {
     "cell_type": "markdown",
     "metadata": {},
     "source": [
      "\u8981\u627e\u5230\u6700\u6d41\u884c\u7684\u540d\u5b57\u6216\u6709\u6700\u9ad8\u51fa\u751f\u7387\u7684\u5a74\u513f\u59d3\u540d\uff0c\u6211\u4eec\u53ef\u4ee5\u5728\u5982\u4e0b\u505a\u6cd5\u4e2d\u9009\u62e9\u4e00\u4e2a\u3002\n",
      "\n",
      "* \u5bf9dataframe \u6392\u5e8f\u5e76\u9009\u62e9\u6700\u9ad8\u7684\u884c\n",
      "* \u4f7f\u7528 ***max()*** \u5c5e\u6027\u627e\u5230\u6700\u5927\u503c"
     ]
    },
    {
     "cell_type": "code",
     "collapsed": false,
     "input": [
      "# \u65b9\u6cd5 1:\n",
      "Sorted = df.sort(['Births'], ascending=False)\n",
      "Sorted.head(1)"
     ],
     "language": "python",
     "metadata": {},
     "outputs": [
      {
       "html": [
        "<div style=\"max-height:1000px;max-width:1500px;overflow:auto;\">\n",
        "<table border=\"1\" class=\"dataframe\">\n",
        "  <thead>\n",
        "    <tr style=\"text-align: right;\">\n",
        "      <th></th>\n",
        "      <th>Names</th>\n",
        "      <th>Births</th>\n",
        "    </tr>\n",
        "  </thead>\n",
        "  <tbody>\n",
        "    <tr>\n",
        "      <th>4</th>\n",
        "      <td> Mel</td>\n",
        "      <td> 973</td>\n",
        "    </tr>\n",
        "  </tbody>\n",
        "</table>\n",
        "</div>"
       ],
       "metadata": {},
       "output_type": "pyout",
       "prompt_number": 20,
       "text": [
        "  Names  Births\n",
        "4   Mel     973"
       ]
      }
     ],
     "prompt_number": 20
    },
    {
     "cell_type": "code",
     "collapsed": false,
     "input": [
      "# \u65b9\u6cd5 2:\n",
      "df['Births'].max()"
     ],
     "language": "python",
     "metadata": {},
     "outputs": [
      {
       "metadata": {},
       "output_type": "pyout",
       "prompt_number": 21,
       "text": [
        "973"
       ]
      }
     ],
     "prompt_number": 21
    },
    {
     "cell_type": "markdown",
     "metadata": {},
     "source": [
      "## \u5c55\u793a \u6570\u636e"
     ]
    },
    {
     "cell_type": "markdown",
     "metadata": {},
     "source": [
      "\u8fd9\u91cc\u6211\u4eec\u53ef\u4ee5\u753b\u51fa ***Births*** \u5217\u5e76\u6807\u6ce8\u6700\u9ad8\u70b9\u5230\u56fe\u4e0a\u7ed9\u6700\u7ec8\u7528\u6237\u3002\u901a\u8fc7\u5173\u8054\u8868\uff0c\u7528\u6237\u5c06\u6e05\u6670\u5730\u770b\u5230**Mel**\u5728\u8fd9\u4e2a\u6570\u636e\u96c6\u91cc\u662f\u6700\u6d41\u884c\u7684\u5a74\u513f\u540d\u5b57\u3002\n",
      "\n",
      "***plot()*** \u662f\u4e00\u4e2a\u65b9\u4fbf\u7684\u5c5e\u6027\uff0cpandas\u5141\u8bb8\u4f60\u5728\u4f60\u7684dataframe\u4e4b\u4e0a\u8f7b\u677e\u5730\u4f5c\u56fe\u3002\u4e4b\u524d\u4e00\u5c0f\u8282\u4e2d\u6211\u4eec\u77e5\u9053Births\u5217\u4e2d\u7684\u6700\u5927\u503c\u3002\u73b0\u5728\u627e\u51fa973\u5bf9\u5e94\u7684\u5a74\u513f\u59d3\u540d\u4f3c\u4e4e\u6709\u70b9\u590d\u6742\uff0c\u6240\u4ee5\u8df3\u8fc7\u5b83\u5427\u3002\n",
      "\n",
      "**\u89e3\u6790\u90e8\u5206:**  \n",
      "*df['Names']* - \u8fd9\u662f\u5a74\u513f\u59d3\u540d\u7684\u5168\u90e8\u5217\u8868\uff0c\u6574\u4e2aNames\u5217  \n",
      "*df['Births']* - \u8fd9\u662f1880\u5e74\u51fa\u751f\u7684\u5168\u90e8\u5217\u8868, \u6574\u4e2aBirths\u5217  \n",
      "*df['Births'].max()* -\u8fd9\u662f\u5728 Births \u5217\u4e2d\u627e\u5230\u7684\u6700\u5927\u503c  \n",
      "\n",
      "[df['Births'] == df['Births'].max()] **\u7b49\u4ef7\u4e8e** [\u5728 Births \u5217\u4e2d\u627e\u51fa\u503c\u4e3a973\u7684\u6240\u6709\u8bb0\u5f55]  \n",
      "df['Names'][df['Births'] == df['Births'].max()] **\u7b49\u4ef7\u4e8e** \u5728 Names \u5217\u4e2d\u9009\u62e9\u6240\u6709\u8bb0\u5f55 **\u5f53** [Births \u5217\u7b49\u4e8e 973]  \n",
      "\n",
      "\u4e00\u4e2a\u66ff\u4ee3\u7684\u65b9\u6cd5\u53ef\u4ee5\u7528 ***Sorted*** dataframe:  \n",
      "Sorted['Names'].head(1).value  \n",
      "\n",
      "***str()*** \u51fd\u6570\u7b80\u5355\u5730\u8f6c\u6362\u4e00\u4e2a\u5bf9\u8c61\u4e3astring\u3002"
     ]
    },
    {
     "cell_type": "code",
     "collapsed": false,
     "input": [
      "# \u521b\u5efa \u56fe\u8868\n",
      "df['Births'].plot()\n",
      "\n",
      "# \u6570\u636e\u96c6\u4e2d\u7684\u6700\u5927\u503c\n",
      "MaxValue = df['Births'].max()\n",
      "\n",
      "# \u4e0e\u6700\u5927\u503c\u5173\u8054\u7684\u59d3\u540d\n",
      "MaxName = df['Names'][df['Births'] == df['Births'].max()].values\n",
      "\n",
      "# \u56fe\u4e2d\u5c55\u793a\u7684\u6587\u5b57\n",
      "Text = str(MaxValue) + \" - \" + MaxName\n",
      "\n",
      "# \u6dfb\u52a0\u6587\u5b57\u5230\u56fe\u8868\n",
      "plt.annotate(Text, xy=(1, MaxValue), xytext=(8, 0), \n",
      "                 xycoords=('axes fraction', 'data'), textcoords='offset points')\n",
      "\n",
      "print \"The most popular name\"\n",
      "df[df['Births'] == df['Births'].max()]\n",
      "#Sorted.head(1) \u4e5f\u53ef\u4ee5\u7528"
     ],
     "language": "python",
     "metadata": {},
     "outputs": [
      {
       "output_type": "stream",
       "stream": "stdout",
       "text": [
        "The most popular name\n"
       ]
      },
      {
       "html": [
        "<div style=\"max-height:1000px;max-width:1500px;overflow:auto;\">\n",
        "<table border=\"1\" class=\"dataframe\">\n",
        "  <thead>\n",
        "    <tr style=\"text-align: right;\">\n",
        "      <th></th>\n",
        "      <th>Names</th>\n",
        "      <th>Births</th>\n",
        "    </tr>\n",
        "  </thead>\n",
        "  <tbody>\n",
        "    <tr>\n",
        "      <th>4</th>\n",
        "      <td> Mel</td>\n",
        "      <td> 973</td>\n",
        "    </tr>\n",
        "  </tbody>\n",
        "</table>\n",
        "</div>"
       ],
       "metadata": {},
       "output_type": "pyout",
       "prompt_number": 23,
       "text": [
        "  Names  Births\n",
        "4   Mel     973"
       ]
      },
      {
       "metadata": {},
       "output_type": "display_data",
       "png": "[encoded data removed]",
       "text": [
        "<matplotlib.figure.Figure at 0x7bf8550>"
       ]
      }
     ],
     "prompt_number": 23
    },
    {
     "cell_type": "markdown",
     "metadata": {},
     "source": [
      "**\u4f5c\u8005:** [David Rojas](http://www.hedaro.com/)  \n",
      "**\u7ffb\u8bd1:** [laozhaokun](https://github.com/laozhaokun)"
     ]
    },
    {
     "cell_type": "code",
     "collapsed": false,
     "input": [],
     "language": "python",
     "metadata": {},
     "outputs": []
    }
   ],
   "metadata": {}
  }
 ]
}